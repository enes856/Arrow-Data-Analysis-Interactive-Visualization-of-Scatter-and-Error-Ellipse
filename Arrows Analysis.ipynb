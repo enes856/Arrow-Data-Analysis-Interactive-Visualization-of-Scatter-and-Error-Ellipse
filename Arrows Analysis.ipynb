{
 "cells": [
  {
   "cell_type": "markdown",
   "id": "765b7989",
   "metadata": {},
   "source": [
    "# Pfeile"
   ]
  },
  {
   "cell_type": "markdown",
   "id": "91935e9b",
   "metadata": {
    "tags": [
     "Amadeus Harms"
    ]
   },
   "source": [
    "## Aufgaben\n",
    "\n",
    "- Visualisieren mit interaktiver Grafik\n",
    "- Statistische Kennzahlen berechnen\n",
    "- Berechnen der Fehlerellipse\n",
    "- Standartabweichung in Winkelstreuung umwandeln"
   ]
  },
  {
   "cell_type": "markdown",
   "id": "12a09355",
   "metadata": {
    "tags": [
     "Amadeus Harms"
    ]
   },
   "source": [
    "## Arbeitsplan\n",
    "1. Daten Aufbereiten\n",
    "2. Alle Nötigen Daten berechnen\n",
    "    - Mittelwerte\n",
    "    - Standartabweichung\n",
    "    - Streuung\n",
    "    - Winkelstreuung\n",
    "    - Fehlerellipse\n",
    "3. Erste Visualisierungen\n",
    "4. Erstellen der Interaktiven Grafik\n",
    "5. Optimierung"
   ]
  },
  {
   "cell_type": "markdown",
   "id": "8bffeb78",
   "metadata": {},
   "source": [
    "# Wie kommen die Daten im Bogensport zustande?"
   ]
  },
  {
   "cell_type": "markdown",
   "id": "cb12d414",
   "metadata": {},
   "source": [
    "## Distanz"
   ]
  },
  {
   "cell_type": "markdown",
   "id": "db307ea0",
   "metadata": {},
   "source": [
    "Die Distanz der Sportler zur Zielscheibe variiert je nach Alter, größe der Zielscheibe und des Wettbewerbs. Der ASC Göttingen zeigt auf Ihrer Website über das Olympische Bogenschießen - welches nach den Regeln der World Archery stattfindet - die verschiedenen Distanzen und Altersgruppen der Sportler. Zum Beispiel schießen in dem Wettbewerb 13 - 14 jährige aus 40 Meter Distanz auf eine Zielscheibe mit 80cm Durchmesser $ ^3$."
   ]
  },
  {
   "cell_type": "markdown",
   "id": "b031d42f",
   "metadata": {},
   "source": [
    "## Zielscheiben"
   ]
  },
  {
   "cell_type": "markdown",
   "id": "ceadacac",
   "metadata": {},
   "source": [
    "Zielscheiben müssen fest an dem Boden befästigt werden um eine stabile Zielscheibe gewährleisten zu können. Außerdem müssen Bereiche der Zielscheibenhalterung abgedeckt werden, falls diese die Pfeile beschädigen könnten $ ^1$. "
   ]
  },
  {
   "cell_type": "markdown",
   "id": "9c64625b",
   "metadata": {},
   "source": [
    "Es gibt zehn verschiedene Zielscheiben für den Bogensport in geschlossenen Räumen (60cm oder 40cm durchmesser) sowie vier für das Bogenschießen im Freien (122cm oder 80cm). Diese Zielscheiben unterscheiden sich nicht nur in der Größe sondern auch die Anzahl der Zielscheiben und wie sie geordnet sind. Zum Beispiel besteht das \"The 60cm vertical triple face\" aus drei Zielscheiben mit 60cm Durchmesser die vertikal angeordnet sind $ ^1$."
   ]
  },
  {
   "cell_type": "markdown",
   "id": "1a3a9a82",
   "metadata": {},
   "source": [
    "Der Mittelpunkt der Zielscheibe muss 130cm über dem Boden sein. Es gibt eine Toleranz von 5cm $ ^1$."
   ]
  },
  {
   "cell_type": "markdown",
   "id": "8857b7d9",
   "metadata": {},
   "source": [
    "## Passe"
   ]
  },
  {
   "cell_type": "markdown",
   "id": "39c482a2",
   "metadata": {},
   "source": [
    "Eine Passe ist gleichzusetzen mit dem Wort \"Durchlauf\". Ein Durchlauf beginnt wenn der Spieler nun am Zug ist und ist dann beendet wenn der Sportler eine gewisse Anzahl an Pfeilen abgeschossen hat und nun der nächste Spieler am Zug ist oder die gesamte Runde vorbei ist."
   ]
  },
  {
   "cell_type": "markdown",
   "id": "b1fe90c9",
   "metadata": {},
   "source": [
    "## Wertung der Punkte"
   ]
  },
  {
   "cell_type": "markdown",
   "id": "46482546",
   "metadata": {},
   "source": [
    "Jeder abgeschossene Pfeil muss in der Zielscheibe fest hängenbleiben, andernfalls bleibt die Wertung der getroffenen Punktzahl aus. Jede Zielscheibe besteht aus zehn Ringen wobei der Zehnte sich in der Mitte und der erste am äußersten befindet. Zudem gibt es in dem 10 Ring noch den \"elften Ring\" namens innere zehn welcher die höchsmögliche Punktzahl der Zielscheibe widerspiegelt $ ^1$. Die Wertung der Punkte erfolgt nach jeder Passe und wird auf einer Punktekarte absteigend festgehalten $ ^2$."
   ]
  },
  {
   "cell_type": "code",
   "execution_count": null,
   "id": "92f1ea55",
   "metadata": {
    "vscode": {
     "languageId": "sage"
    }
   },
   "outputs": [],
   "source": [
    "import pandas as pd\n",
    "from sage.plot.scatter_plot import ScatterPlot\n",
    "import numpy as np\n",
    "from sage.plot.ellipse import Ellipse\n",
    "from ipywidgets import interact\n",
    "import ipywidgets as widgets\n",
    "from sage.plot.circle import circle\n",
    "import pathlib"
   ]
  },
  {
   "cell_type": "markdown",
   "id": "51a31f65",
   "metadata": {},
   "source": [
    "### Warnings deaktivieren da sie Teilweise die Interaktive Grafik Stören\n",
    "Bei Problemen diese Zelle nicht ausführen"
   ]
  },
  {
   "cell_type": "code",
   "execution_count": null,
   "id": "1da356e8",
   "metadata": {
    "vscode": {
     "languageId": "sage"
    }
   },
   "outputs": [],
   "source": [
    "import warnings\n",
    "warnings.filterwarnings('ignore')"
   ]
  },
  {
   "cell_type": "markdown",
   "id": "fab08c0f",
   "metadata": {},
   "source": [
    "## Klasse \"Pfeildaten\"\n",
    "\n",
    "Enthält funktionen um Informationen aus Gespeicherten Dataframes zu lesen"
   ]
  },
  {
   "cell_type": "code",
   "execution_count": null,
   "id": "a00aa465",
   "metadata": {
    "vscode": {
     "languageId": "sage"
    }
   },
   "outputs": [],
   "source": [
    "class Pfeildaten():\n",
    "    def __init__(self, pfad):\n",
    "        '''Nimmt den Namen eins Dateipfades aus dem momentanen Directory\n",
    "        und speichert alle .csv Dateien aus diesem Ordner in einem Dictionary\n",
    "        mit den Dateinamen als Keys'''\n",
    "        self.data = {file.name: pd.read_csv(file, delimiter=\";\") for file in pathlib.Path(\"./\" + pfad).glob('*.csv')}\n",
    "    \n",
    "    @staticmethod\n",
    "    def calcMid(data):\n",
    "        '''Gibt ein tupel mit den mitleren x und y Werten'''\n",
    "        summe_x = sum(data[\"x\"])\n",
    "        summe_y = sum(data[\"y\"])\n",
    "        count = data.shape[0]\n",
    "        return (summe_x/count, summe_y/count)\n",
    "\n",
    "    @staticmethod\n",
    "    def Streuung(data):\n",
    "        '''Gibt ein tupel mit Standartabeichung in x und y Richtung wieder.'''\n",
    "        std_x = np.std(data[\"x\"])\n",
    "        std_y = np.std(data[\"y\"])\n",
    "        return (std_x, std_y)\n",
    "\n",
    "    \n",
    "    def WinkelStreuung(self, data):\n",
    "        '''Gibt ein tupel mit mit Winkelstreuung in x und y Richtung wieder.'''\n",
    "        a = list(set(data[\"Distanz\"]))\n",
    "        return (self.Streuung(data)[0]/a[0], self.Streuung(data)[1]/a[0])\n",
    "\n",
    "    \n",
    "    def combine(self, keys):\n",
    "        '''Nimmt eine Liste von Keys und kombiniert die jeweiligen dataframes aus self.data zu einem dataframe'''\n",
    "        return pd.concat([self.data[a] for a in keys], axis=0)\n",
    "\n",
    "    \n",
    "    def datafromwidgets(self, selected_Data, range, ringe, passe):\n",
    "        '''Filtert die ausgewählten Dataframes nach Distanz, Ringenzahl und Passenzahl\n",
    "        mithilfe der Methoden filter_Distanz, filter_passe, filter_ringe.\n",
    "        Gibt das gefilterte Dataframe zurück.'''\n",
    "        if len(selected_Data) == 0: pass\n",
    "        else:\n",
    "            return self.filter_ringe(self.filter_passe(self.filter_Distanz(self.combine(selected_Data), range), passe), ringe)\n",
    "            \n",
    "    \n",
    "    def getDataFromRange(self, range):\n",
    "        '''Nimmt einen Reichweite Parameter und gibt alle Namen von Dataframes zurück die diese Reichweite enthalten'''\n",
    "        return [key for key, value in list(self.data.items()) if range in list(value[\"Distanz\"])]\n",
    "\n",
    "    \n",
    "    def getKeys(self):\n",
    "        '''gibt eine Liste aus allen Keys von self.data zurück'''\n",
    "        return list(self.data.keys())\n",
    "    \n",
    "    \n",
    "    def getMaxRing(self, data):\n",
    "        '''Gibt den Maximalen Wert für den getroffenen Ring aus einem DataFrame'''\n",
    "        return max(list(self.combine(data)[\"Ringe\"]))\n",
    "        \n",
    "    \n",
    "    def getMaxPasse(self, data):\n",
    "        '''Gibt den Maximalen Wert der Splate Passe aus ausgewählten Dataframes zurück'''\n",
    "        return max(list(self.combine(data)[\"Passe\"]))\n",
    "\n",
    "    \n",
    "    def getMaxSize(self, data):\n",
    "        '''gibt den größten Wert aus der Spalte \"Typ Auflage\" aus ausgewählten Dataframes zurück'''\n",
    "        return max(list(self.combine(data)[\"Typ Auflage\"]))\n",
    "        \n",
    "    \n",
    "    def getRanges(self):\n",
    "        '''gibt eine Liste an allen Distanzwerten aus self.data'''\n",
    "        return list(set(list(self.combine(self.getKeys())[\"Distanz\"])))\n",
    "\n",
    "\n",
    "    @staticmethod\n",
    "    def filter_ringe(datensatz, ringe):\n",
    "        '''Gibt ein Dataframe zurück das nach angegebener Ringzahl gefiltert wurde.\n",
    "        Nimmt ein Dataframe und Ringzahl.'''\n",
    "        if ringe == 0:\n",
    "            return datensatz\n",
    "        else: \n",
    "            return datensatz[datensatz[\"Ringe\"] == ringe]\n",
    "    \n",
    "\n",
    "    @staticmethod\n",
    "    def filter_passe(datensatz, passe):\n",
    "        '''Gibt ein Dataframe zurück das nach angegebener Passenzahl gefiltert wurde.\n",
    "        Nimmt ein Dataframe und Passenzahl.'''\n",
    "        if passe == 0:\n",
    "            return datensatz\n",
    "        else: \n",
    "            return datensatz[datensatz[\"Passe\"] == passe]\n",
    "    \n",
    "    @staticmethod\n",
    "    def filter_Distanz(datensatz, Distanz):\n",
    "        '''filtert ein Dataframe nach dem Parameter Distanz'''\n",
    "        return datensatz[datensatz[\"Distanz\"] == Distanz]\n",
    "\n",
    "    @staticmethod\n",
    "    def Punkte(datensatz):\n",
    "        '''Nimmt einen gefilterten Datensatz (nach Ringe und Passe) \n",
    "        und gibt eine Liste mit Tupeln (zu plottende Punkte) zurück.'''\n",
    "        filtered_data = datensatz\n",
    "        return [(list(filtered_data[\"x\"])[a], list(filtered_data[\"y\"])[a]) for a in range(len(filtered_data))]\n",
    "    \n"
   ]
  },
  {
   "cell_type": "markdown",
   "id": "c0e5017f",
   "metadata": {},
   "source": [
    "## Klasse \"Plots\"\n",
    "\n",
    "1. Erbt die Funktionen der Klasse \"Pfeildaten\"\n",
    "2. Enthält Funktionen zum Plotten der Daten"
   ]
  },
  {
   "cell_type": "code",
   "execution_count": null,
   "id": "027e1def",
   "metadata": {
    "vscode": {
     "languageId": "sage"
    }
   },
   "outputs": [],
   "source": [
    "class Plots(Pfeildaten):\n",
    "    def __init__(self, pfad):\n",
    "        super().__init__(pfad)\n",
    "    \n",
    "    def drawMid(self, data):\n",
    "        '''Zeichnet ein Kreuz an den Mittelpunkt der Daten'''\n",
    "        return scatter_plot([self.calcMid(data)], markersize=100, marker=\"+\", facecolor=\"red\")\n",
    "\n",
    "    def drawErrorElipse(self, data):\n",
    "        '''Zeichnet die Fehlerellipse der Angegebenen Daten'''\n",
    "        \n",
    "        # Eigenwerte und Verktoren der Kovarianzmatrix aus den x- und y- Koordinaten berechnen\n",
    "        Eigenvalues = matrix(np.cov(data[\"x\"], data[\"y\"])).eigenvectors_right()\n",
    "\n",
    "        # Den Drehwinkel der Elipse aus der Ausrichtung des Eigenvektors zum Größten Eigenwert bestimmen\n",
    "        angle = arctan(Eigenvalues[0][1][0][1]/Eigenvalues[0][1][0][0])\n",
    "\n",
    "        # 5.991 ist ein Standartwert sodass die Elipse 95% der Daten beinhaltet\n",
    "        return ellipse(\n",
    "            self.calcMid(data),\n",
    "            sqrt(5.991 * Eigenvalues[0][0]),\n",
    "            sqrt(5.991 * Eigenvalues[1][0]),\n",
    "            angle,\n",
    "            edgecolor=\"green\",\n",
    "        )\n",
    "\n",
    "\n",
    "    def drawStandardDeviation(self, data):\n",
    "        x, y = var(\"x, y\")\n",
    "        \n",
    "        min_x = min(data[\"x\"])\n",
    "        max_x = max(data[\"x\"])\n",
    "        min_y = min(data[\"y\"])\n",
    "        max_y = max(data[\"y\"]) \n",
    "\n",
    "        # Berechne Mittelwerte und Standardabweichungen\n",
    "        mid_x = self.calcMid(data)[0]\n",
    "        mid_y = self.calcMid(data)[1]\n",
    "        std_x = self.Streuung(data)[0] \n",
    "        std_y = self.Streuung(data)[1]\n",
    "        \n",
    "        # Plotte Glockenkurve in horizontale Richtung\n",
    "        bell_curve_x = plot(\n",
    "            (1/(std_x*sqrt(2*pi)))*exp(-0.5*((x - mid_x)/std_x)**2),\n",
    "            (x, min_x, max_x),\n",
    "            color='red',\n",
    "            legend_label=\"Horizontal\",\n",
    "            title=\"Standardabweichung\",\n",
    "            frame=True,\n",
    "        )\n",
    "\n",
    "        # Plotte Glockenkurve in vertikale Richtung\n",
    "        bell_curve_y = plot(\n",
    "            (1/(std_y*np.sqrt(2*np.pi)))*np.exp(-0.5*((y - mid_y)/std_y)**2),\n",
    "            (y, min_y, max_y), color='blue',\n",
    "            legend_label=\"Vertikal\",\n",
    "        )\n",
    "        \n",
    "        combined_plot = bell_curve_x + bell_curve_y\n",
    "        print(f\"Standardabweichung in horizontale Richtung: {round(std_x, 3)}\\nStandardabweichung in vertikale Richtung: {round(std_y, 3)}\")\n",
    "        combined_plot.set_legend_options(loc=\"upper right\")\n",
    "        combined_plot.axes_labels([\"X bzw Y Koordinate der Zielscheibe\", \"Wahrscheinlichkeitsdichte\"])\n",
    "        combined_plot.axes_labels_size(0.8)\n",
    "        # Gibt kombinierte Grafik aus horizontaler und vertikaler Standardabweichung\n",
    "        return combined_plot\n",
    "\n",
    "\n",
    "    def Interaktiv(self, selected_Data, range, ringe, passe):\n",
    "        '''Nimmt die durch den Benutzer ausgewählten Dataframes, Ringenzahl und Passenzahl.\n",
    "           Gibt eine Interaktive Grafik der Zielscheibe inklusive Mittelpunkt der Punkte, \n",
    "           Fehlerellipse, Standardabweichung und Punkte zurück.'''\n",
    "        if len(selected_Data) == 0: pass\n",
    "        else:\n",
    "            data = self.datafromwidgets(selected_Data, range, ringe, passe)       \n",
    "            plot1 = list_plot(\n",
    "                self.Punkte(data),\n",
    "                color=\"blue\",\n",
    "                pointsize=10,\n",
    "                figsize=6,\n",
    "            )\n",
    "            plot1 += circle(\n",
    "                (0,0),\n",
    "                self.getMaxSize(selected_Data)*5,\n",
    "                edgecolor=\"black\",\n",
    "            )\n",
    "            if len(data) >= 3: plot1 += self.drawErrorElipse(data)\n",
    "            if len(data) > 1: plot1 += self.drawMid(data)\n",
    "            if len(data) >= 3: \n",
    "                plot1.show()\n",
    "                self.drawStandardDeviation(data).show()\n",
    "            else: plot1.show()"
   ]
  },
  {
   "cell_type": "markdown",
   "id": "1f2e798e",
   "metadata": {},
   "source": [
    "### Instanz der Klasse erstellen"
   ]
  },
  {
   "cell_type": "code",
   "execution_count": null,
   "id": "f223c7a3",
   "metadata": {
    "vscode": {
     "languageId": "sage"
    }
   },
   "outputs": [],
   "source": [
    "Instanz1 = Plots(\"Pfeildaten\")"
   ]
  },
  {
   "cell_type": "markdown",
   "id": "82b1ef8a",
   "metadata": {},
   "source": [
    "### Winkelstreuung der Datensätze"
   ]
  },
  {
   "cell_type": "code",
   "execution_count": null,
   "id": "4af1d0b8",
   "metadata": {
    "vscode": {
     "languageId": "sage"
    }
   },
   "outputs": [],
   "source": [
    "for key in Instanz1.data.keys():\n",
    "    x = Instanz1.WinkelStreuung(Instanz1.data[key])[0]\n",
    "    y = Instanz1.WinkelStreuung(Instanz1.data[key])[1]\n",
    "    print(f\"{key} Winkelstreuung:\\nx-Richtung: {x}\\ny-Richtung: {y}\\n\")"
   ]
  },
  {
   "cell_type": "markdown",
   "id": "a8421343",
   "metadata": {},
   "source": [
    "### Test der Fehlerellipse"
   ]
  },
  {
   "cell_type": "markdown",
   "id": "4ac71036",
   "metadata": {},
   "source": [
    "- Drehen und Normieren der Datenpunkte damit wir die Formel einer normalen Ellipse nutzen können <br>\n",
    "$$(\\dfrac{x}{a})^2 + (\\dfrac{y}{b})^2 = 1$$\n",
    "- a, b sind die jeweiligen Radii der Ellipse <br>\n",
    "- Ein Punkte ($x_i, y_i$) liegt innerhalb der Ellipse wenn $(\\dfrac{x_i}{a})^2 + (\\dfrac{y_i}{b})^2 < 1$\n"
   ]
  },
  {
   "cell_type": "code",
   "execution_count": null,
   "id": "6ead16e0",
   "metadata": {
    "vscode": {
     "languageId": "sage"
    }
   },
   "outputs": [],
   "source": [
    "def datenAnpassen(dataframe, Winkel):\n",
    "    #Die Datenpunkte drehen und Normieren sodass der Mittelpunkt bei (0, 0) und die Ausrichtung der Fehlerellipse parallel zu x-Achse ist\n",
    "    Punkte = list(zip(list(dataframe[\"x\"] - Pfeildaten.calcMid(dataframe)[0]), list(dataframe[\"y\"] - Pfeildaten.calcMid(dataframe)[1])))\n",
    "    Matrix = np.matrix(Punkte)\n",
    "    Gedreht = np.matmul(Matrix, [[cos(Winkel), -sin(Winkel)], [sin(Winkel), cos(Winkel)]]).tolist()\n",
    "    return Gedreht\n",
    "\n",
    "\n",
    "def isinEllipse(dataframe):\n",
    "    OriginalEigenvalues = matrix(np.cov(dataframe[\"x\"], dataframe[\"y\"])).eigenvectors_right()\n",
    "    angle = arctan(OriginalEigenvalues[0][1][0][1]/OriginalEigenvalues[0][1][0][0])\n",
    "    newData = datenAnpassen(dataframe, angle)\n",
    "    newEVs = matrix(np.cov([x for x, y in newData], [y for x, y in newData])).eigenvectors_right()\n",
    "    forget()\n",
    "    x, y = var(\"x y\")\n",
    "    f = (x^2)/sqrt(5.991 * newEVs[0][0])^2 + (y^2)/sqrt(5.991 * newEVs[1][0])^2\n",
    "    bInEllipse = [True if float(f.substitute(x=xValue, y=yValue)) < 1 else False for xValue, yValue in newData] \n",
    "    return int(bInEllipse.count(true)/len(bInEllipse)*100)\n",
    "\n",
    "for key in Instanz1.data.keys():\n",
    "    print(f\"Die Errorellipse zu Datensatz {key} umschließt {isinEllipse(Instanz1.data[key])}% der Datenpunkte\")"
   ]
  },
  {
   "cell_type": "markdown",
   "id": "9ff2643e",
   "metadata": {},
   "source": [
    "Diese Werte liegen alle in der Nähe des Wertes von 95% welcher durch den Faktor 5.991 zu erwarten ist\n"
   ]
  },
  {
   "cell_type": "markdown",
   "id": "b279d55c",
   "metadata": {},
   "source": [
    "### Prüfen ob der Plot der Warscheinlichkeitsdichte Plausibel ist\n",
    "- Erster Test: Ist der Hochpunkt an der Richtigen Stelle\n",
    "- Zweiter Test: Ist die Fläche unter der Kurve = 1"
   ]
  },
  {
   "cell_type": "code",
   "execution_count": null,
   "id": "df14b909",
   "metadata": {
    "vscode": {
     "languageId": "sage"
    }
   },
   "outputs": [],
   "source": [
    "def Standardabweichung_Test_Mittelpunkt(mid, std, min_x, max_x):\n",
    "    x = var(\"x\")\n",
    "    f(x) = 1/(std*sqrt(2*pi))*exp(-0.5*((x - mid)/std)**2)\n",
    "    if find_root(f.diff(x) == 0,min_x, max_x) == mid:\n",
    "        print(True)\n",
    "    else: print(False)                \n",
    "    \n",
    "\n",
    "def Standardabweichung_Test_Fläche(mid, std):\n",
    "    f(x) = 1/(std*sqrt(2*pi))*exp(-0.5*((x - mid)/std)**2)\n",
    "    if round(integral(f(x), x, -oo, +oo).n(), 15) == 1: # M\n",
    "        mf = abs(integral(f(x), x, -oo, +oo).n()-1)\n",
    "        print(f\"True, Maschinenfehler beträgt: {mf} und ist somit zu vernachlässigen\")\n",
    "    else: print(False)   \n",
    "    \n",
    "Standardabweichung_Test_Mittelpunkt(-19.416, 42.075, -137, 132) # Test für arrows3 mit allen Datenpunkten\n",
    "Standardabweichung_Test_Fläche(-19.416, 42.075) # Test für arrows3 mit allen Datenpunkten"
   ]
  },
  {
   "cell_type": "markdown",
   "id": "0fbd46fb",
   "metadata": {},
   "source": [
    "## Interaktive Grafik"
   ]
  },
  {
   "cell_type": "code",
   "execution_count": null,
   "id": "d02dee20",
   "metadata": {
    "vscode": {
     "languageId": "sage"
    }
   },
   "outputs": [],
   "source": [
    "Data_Widget = widgets.SelectMultiple(\n",
    "    options = sorted(Instanz1.getDataFromRange(list(Instanz1.getRanges())[0])),\n",
    "    value = [Instanz1.getDataFromRange(list(Instanz1.getRanges())[0])[0]],\n",
    "    description=\"Daten\",\n",
    "    disabled = False\n",
    ")\n",
    "Range_Widget = widgets.RadioButtons(\n",
    "    options=Instanz1.getRanges(),\n",
    "    value=list(Instanz1.getRanges())[0],\n",
    "    description=\"Distanz\",\n",
    ")\n",
    "Ringe_Widget = widgets.FloatSlider(\n",
    "    value=0,\n",
    "    min=0,\n",
    "    max=10,\n",
    "    step=1,\n",
    "    description=\"Ring\",\n",
    ")\n",
    "Passe_Widget = widgets.FloatSlider(\n",
    "    value=0,\n",
    "    min=0,\n",
    "    max=10,\n",
    "    step=1,\n",
    "    description=\"Passe\",\n",
    ")\n",
    "\n",
    "def changeData_Widget(change):\n",
    "    '''Wechselt die Auswahlmöglichkeiten an datensätzen basierend auf der auswahl der Distanz'''\n",
    "    options = sorted(Instanz1.getDataFromRange(change.new))\n",
    "    Data_Widget.options = options\n",
    "    Data_Widget.value = [options[0]]\n",
    "\n",
    "def changeRingePasse_WidgetMax(change):\n",
    "    '''passt die Ring und Passe Slider an sodass das Maximum dem Datensatz entspricht'''\n",
    "    if len(change.new) == 0: pass\n",
    "    else:\n",
    "        Ringe_Widget.max = Instanz1.getMaxRing(change.new)\n",
    "        Passe_Widget.max = Instanz1.getMaxPasse(change.new)\n",
    "\n",
    "Range_Widget.observe(changeData_Widget, names=\"value\")\n",
    "Data_Widget.observe(changeRingePasse_WidgetMax, names=\"value\")\n",
    "\n",
    "interact(\n",
    "    Instanz1.Interaktiv,\n",
    "    selected_Data=Data_Widget,\n",
    "    range=Range_Widget,\n",
    "    ringe=Ringe_Widget,\n",
    "    passe=Passe_Widget,\n",
    ")\n",
    "None"
   ]
  },
  {
   "cell_type": "markdown",
   "id": "dcfa4154",
   "metadata": {},
   "source": [
    "# Arbeitsteilung"
   ]
  },
  {
   "cell_type": "markdown",
   "id": "8ae3e2a8",
   "metadata": {},
   "source": [
    "\n",
    "## Amadeus Harms:\n",
    "### Berechnungsfunktionen:\n",
    "- Mittelpunkt\n",
    "- Standartabweichung\n",
    "- Winkelstreuung\n",
    "### Plotmethoden:\n",
    "- Mittelpunkt\n",
    "- Fehlerellipse\n",
    "- Klassenstruktur\n",
    "### Klassenstruktur\n",
    "- Erstellen vom Klassen\n",
    "- Einfügen und anpassen der Funktionen an die Klassen\n",
    "- get- Funktionen implementiert\n",
    "### Interaktive Grafik\n",
    "- Change und Observe Funktionen zur Interaktiven Grafik hinzugefügt\n",
    "### Tests\n",
    "- Test der Fehlerellipse"
   ]
  },
  {
   "cell_type": "markdown",
   "id": "b3fb121c",
   "metadata": {},
   "source": [
    "## Enes Yasaroglu:\n",
    "- Datenerhebung im Bogensport\n",
    "- Recherche / Literaturverzeichnis\n",
    "- Datenaufbereitung\n",
    "### Methoden:\n",
    "- Datensatz nach Ringen und Passen filtern\n",
    "- Plotmethode der Standardabweichung\n",
    "- Interaktive Grafik erstellt\n",
    "- Punkte\n",
    "### Tests\n",
    "- Ist der Plot der Warscheinlichkeitsdichte plausibel"
   ]
  },
  {
   "cell_type": "markdown",
   "id": "d7d3955f",
   "metadata": {},
   "source": [
    "## Literaturverzeichnis\n",
    "- [1] World Archery. (2024). Chapter 7 FIELD OF PLAY SETUP - TARGET ROUNDS. In Rulebook. Abgerufen am 28. April 2024, von https://www.worldarchery.sport/rulebook/article/13\n",
    "- [2] World Archery. (2024). Chapter 14 SCORING. In Rulebook. Abgerufen am 28. April 2024, von https://www.worldarchery.sport/rulebook/article/903\n",
    "- [3] Bogensport Göttingen. (n.d.). Olympisches Bogenschießen. Abgerufen am 28. April 2024, von https://www.bogenschiessen-goettingen.de/bogensport-olympisches-bogenschiessen.cfm"
   ]
  },
  {
   "cell_type": "markdown",
   "id": "ff172d9d",
   "metadata": {},
   "source": [
    "### Fehlerellipse Recherche (Amadeus):\n",
    "- Vincent Spruyt. (2014). How to draw an error ellipse representing the covariance matrix?.[Online] visiondummy, 03.04.2014 [Abgerufen am 20.04.2024] https://www.visiondummy.com/2014/04/draw-error-ellipse-representing-covariance-matrix/"
   ]
  },
  {
   "cell_type": "markdown",
   "id": "9b5578a3",
   "metadata": {},
   "source": [
    "### Plot Standardabweichung (Enes):\n",
    " - Wikipedia. (2024). Normalverteilung. Abgerufen am 29.04.2024, von https://wikipedia.org/wiki/Normalverteilung"
   ]
  }
 ],
 "metadata": {
  "kernelspec": {
   "display_name": "SageMath 9.5",
   "language": "sage",
   "name": "sagemath"
  },
  "language_info": {
   "codemirror_mode": {
    "name": "ipython",
    "version": 3
   },
   "file_extension": ".py",
   "mimetype": "text/x-python",
   "name": "python",
   "nbconvert_exporter": "python",
   "pygments_lexer": "ipython3",
   "version": "3.10.12"
  }
 },
 "nbformat": 4,
 "nbformat_minor": 5
}
